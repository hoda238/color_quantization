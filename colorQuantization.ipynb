{
 "cells": [
  {
   "cell_type": "code",
   "execution_count": 93,
   "metadata": {},
   "outputs": [],
   "source": [
    "#imports"
   ]
  },
  {
   "cell_type": "code",
   "execution_count": 94,
   "metadata": {},
   "outputs": [],
   "source": [
    "import pandas as pd\n",
    "import numpy as np\n",
    "import os\n",
    "import PIL\n",
    "from PIL import Image\n",
    "from sklearn.cluster import KMeans"
   ]
  },
  {
   "cell_type": "code",
   "execution_count": 95,
   "metadata": {},
   "outputs": [
    {
     "name": "stdout",
     "output_type": "stream",
     "text": [
      "Documents/GitHub/color_quantization/images/color.png\n"
     ]
    }
   ],
   "source": [
    "path = '/Users/hoda/Documents/GitHub/color_quantization/images/color.png'\n",
    "start = '/Users/hoda'\n",
    "relative_path = os.path.relpath(path, start) \n",
    "print(relative_path)\n",
    "pic = Image.open('/Users/hoda/Documents/GitHub/color_quantization/images/color.png')"
   ]
  },
  {
   "cell_type": "code",
   "execution_count": 96,
   "metadata": {},
   "outputs": [],
   "source": [
    "#constants"
   ]
  },
  {
   "cell_type": "code",
   "execution_count": 97,
   "metadata": {},
   "outputs": [],
   "source": [
    "no_of_pixels = pic.size[0]*pic.size[1]\n",
    "img_size = pic.size"
   ]
  },
  {
   "cell_type": "code",
   "execution_count": 98,
   "metadata": {},
   "outputs": [],
   "source": [
    "#image attributes"
   ]
  },
  {
   "cell_type": "code",
   "execution_count": 99,
   "metadata": {},
   "outputs": [
    {
     "name": "stdout",
     "output_type": "stream",
     "text": [
      "RGB\n",
      "PNG\n",
      "(447, 284)\n",
      "126948\n"
     ]
    }
   ],
   "source": [
    "print(pic.mode)\n",
    "print(pic.format)\n",
    "print(img_size)\n",
    "print(no_of_pixels)"
   ]
  },
  {
   "cell_type": "code",
   "execution_count": 100,
   "metadata": {},
   "outputs": [],
   "source": [
    "pic.show()"
   ]
  },
  {
   "cell_type": "code",
   "execution_count": 101,
   "metadata": {},
   "outputs": [
    {
     "data": {
      "text/plain": [
       "[(70428, (255, 255, 255)),\n",
       " (2, (251, 203, 192)),\n",
       " (30, (250, 255, 250)),\n",
       " (960, (251, 175, 93)),\n",
       " (28, (243, 109, 80)),\n",
       " (930, (242, 101, 34)),\n",
       " (930, (239, 229, 203)),\n",
       " (960, (125, 167, 217)),\n",
       " (1860, (0, 33, 87)),\n",
       " (28, (213, 237, 222)),\n",
       " (28, (206, 239, 252)),\n",
       " (930, (0, 114, 188)),\n",
       " (28, (255, 255, 10)),\n",
       " (1860, (160, 65, 13)),\n",
       " (930, (158, 11, 15)),\n",
       " (28, (151, 151, 255)),\n",
       " (28, (255, 255, 156)),\n",
       " (28, (146, 255, 146)),\n",
       " (1, (139, 255, 139)),\n",
       " (1, (138, 255, 138)),\n",
       " (28, (137, 255, 255)),\n",
       " (1, (255, 255, 149)),\n",
       " (930, (130, 123, 0)),\n",
       " (2, (129, 255, 255)),\n",
       " (960, (125, 125, 125)),\n",
       " (960, (115, 99, 87)),\n",
       " (28, (255, 227, 227)),\n",
       " (930, (102, 45, 145)),\n",
       " (930, (96, 57, 19)),\n",
       " (28, (255, 170, 255)),\n",
       " (930, (89, 133, 39)),\n",
       " (930, (0, 91, 127)),\n",
       " (960, (61, 181, 74)),\n",
       " (1860, (54, 47, 45)),\n",
       " (960, (125, 73, 0)),\n",
       " (28, (255, 184, 184)),\n",
       " (28, (22, 255, 255)),\n",
       " (28, (16, 255, 16)),\n",
       " (28, (13, 13, 255)),\n",
       " (1, (7, 255, 255)),\n",
       " (1, (6, 255, 255)),\n",
       " (960, (1, 1, 1)),\n",
       " (872, (0, 255, 0)),\n",
       " (900, (255, 0, 0)),\n",
       " (28, (251, 206, 196)),\n",
       " (30, (248, 248, 255)),\n",
       " (960, (246, 152, 157)),\n",
       " (930, (244, 154, 194)),\n",
       " (872, (243, 108, 79)),\n",
       " (960, (0, 88, 38)),\n",
       " (930, (238, 20, 91)),\n",
       " (930, (237, 0, 140)),\n",
       " (930, (0, 169, 157)),\n",
       " (2, (210, 236, 220)),\n",
       " (930, (137, 137, 137)),\n",
       " (2, (203, 238, 252)),\n",
       " (960, (198, 156, 109)),\n",
       " (930, (0, 74, 128)),\n",
       " (930, (255, 245, 104)),\n",
       " (930, (189, 140, 191)),\n",
       " (28, (255, 255, 245)),\n",
       " (930, (171, 160, 0)),\n",
       " (960, (168, 100, 169)),\n",
       " (960, (0, 89, 82)),\n",
       " (2, (255, 164, 255)),\n",
       " (960, (153, 134, 117)),\n",
       " (960, (248, 148, 29)),\n",
       " (2, (144, 144, 255)),\n",
       " (930, (141, 198, 65)),\n",
       " (28, (131, 202, 157)),\n",
       " (872, (130, 202, 156)),\n",
       " (2, (255, 179, 179)),\n",
       " (960, (123, 0, 70)),\n",
       " (960, (121, 0, 0)),\n",
       " (930, (117, 76, 36)),\n",
       " (28, (110, 208, 247)),\n",
       " (872, (109, 208, 247)),\n",
       " (960, (96, 92, 169)),\n",
       " (28, (255, 2, 255)),\n",
       " (930, (86, 116, 185)),\n",
       " (930, (75, 0, 73)),\n",
       " (1, (255, 255, 150)),\n",
       " (930, (64, 102, 24)),\n",
       " (2, (255, 225, 225)),\n",
       " (960, (60, 184, 120)),\n",
       " (930, (54, 54, 54)),\n",
       " (960, (42, 170, 226)),\n",
       " (870, (0, 255, 255)),\n",
       " (872, (255, 0, 255)),\n",
       " (960, (251, 176, 60)),\n",
       " (872, (255, 255, 0)),\n",
       " (930, (13, 0, 76)),\n",
       " (872, (0, 0, 255)),\n",
       " (2, (255, 255, 244))]"
      ]
     },
     "execution_count": 101,
     "metadata": {},
     "output_type": "execute_result"
    }
   ],
   "source": [
    "pic.getcolors()"
   ]
  },
  {
   "cell_type": "code",
   "execution_count": 102,
   "metadata": {},
   "outputs": [
    {
     "name": "stdout",
     "output_type": "stream",
     "text": [
      "94\n"
     ]
    }
   ],
   "source": [
    "no_of_colors = len(pic.getcolors())\n",
    "print(no_of_colors)"
   ]
  },
  {
   "cell_type": "code",
   "execution_count": 103,
   "metadata": {},
   "outputs": [],
   "source": [
    "df = pd.DataFrame(pic.getcolors(), columns= ['No of pixels', 'Color'])"
   ]
  },
  {
   "cell_type": "code",
   "execution_count": 104,
   "metadata": {},
   "outputs": [
    {
     "name": "stdout",
     "output_type": "stream",
     "text": [
      "    No of pixels            Color\n",
      "0          70428  (255, 255, 255)\n",
      "1              2  (251, 203, 192)\n",
      "2             30  (250, 255, 250)\n",
      "3            960   (251, 175, 93)\n",
      "4             28   (243, 109, 80)\n",
      "..           ...              ...\n",
      "89           960   (251, 176, 60)\n",
      "90           872    (255, 255, 0)\n",
      "91           930      (13, 0, 76)\n",
      "92           872      (0, 0, 255)\n",
      "93             2  (255, 255, 244)\n",
      "\n",
      "[94 rows x 2 columns]\n"
     ]
    }
   ],
   "source": [
    "print(df)"
   ]
  },
  {
   "cell_type": "code",
   "execution_count": 105,
   "metadata": {},
   "outputs": [],
   "source": [
    "df = df[['Color', 'No of pixels']]"
   ]
  },
  {
   "cell_type": "code",
   "execution_count": 106,
   "metadata": {},
   "outputs": [
    {
     "data": {
      "text/html": [
       "<div>\n",
       "<style scoped>\n",
       "    .dataframe tbody tr th:only-of-type {\n",
       "        vertical-align: middle;\n",
       "    }\n",
       "\n",
       "    .dataframe tbody tr th {\n",
       "        vertical-align: top;\n",
       "    }\n",
       "\n",
       "    .dataframe thead th {\n",
       "        text-align: right;\n",
       "    }\n",
       "</style>\n",
       "<table border=\"1\" class=\"dataframe\">\n",
       "  <thead>\n",
       "    <tr style=\"text-align: right;\">\n",
       "      <th></th>\n",
       "      <th>Color</th>\n",
       "      <th>No of pixels</th>\n",
       "    </tr>\n",
       "  </thead>\n",
       "  <tbody>\n",
       "    <tr>\n",
       "      <th>0</th>\n",
       "      <td>(255, 255, 255)</td>\n",
       "      <td>70428</td>\n",
       "    </tr>\n",
       "    <tr>\n",
       "      <th>1</th>\n",
       "      <td>(251, 203, 192)</td>\n",
       "      <td>2</td>\n",
       "    </tr>\n",
       "    <tr>\n",
       "      <th>2</th>\n",
       "      <td>(250, 255, 250)</td>\n",
       "      <td>30</td>\n",
       "    </tr>\n",
       "    <tr>\n",
       "      <th>3</th>\n",
       "      <td>(251, 175, 93)</td>\n",
       "      <td>960</td>\n",
       "    </tr>\n",
       "    <tr>\n",
       "      <th>4</th>\n",
       "      <td>(243, 109, 80)</td>\n",
       "      <td>28</td>\n",
       "    </tr>\n",
       "  </tbody>\n",
       "</table>\n",
       "</div>"
      ],
      "text/plain": [
       "             Color  No of pixels\n",
       "0  (255, 255, 255)         70428\n",
       "1  (251, 203, 192)             2\n",
       "2  (250, 255, 250)            30\n",
       "3   (251, 175, 93)           960\n",
       "4   (243, 109, 80)            28"
      ]
     },
     "execution_count": 106,
     "metadata": {},
     "output_type": "execute_result"
    }
   ],
   "source": [
    "df.head()"
   ]
  },
  {
   "cell_type": "code",
   "execution_count": 107,
   "metadata": {},
   "outputs": [],
   "source": [
    "percentages = []"
   ]
  },
  {
   "cell_type": "code",
   "execution_count": 108,
   "metadata": {},
   "outputs": [
    {
     "ename": "IndexError",
     "evalue": "list assignment index out of range",
     "output_type": "error",
     "traceback": [
      "\u001b[0;31m---------------------------------------------------------------------------\u001b[0m",
      "\u001b[0;31mIndexError\u001b[0m                                Traceback (most recent call last)",
      "\u001b[0;32m<ipython-input-108-72519588f8ab>\u001b[0m in \u001b[0;36m<module>\u001b[0;34m\u001b[0m\n\u001b[1;32m      1\u001b[0m \u001b[0;32mfor\u001b[0m \u001b[0mi\u001b[0m \u001b[0;32min\u001b[0m \u001b[0mrange\u001b[0m\u001b[0;34m(\u001b[0m\u001b[0;36m94\u001b[0m\u001b[0;34m)\u001b[0m\u001b[0;34m:\u001b[0m\u001b[0;34m\u001b[0m\u001b[0;34m\u001b[0m\u001b[0m\n\u001b[0;32m----> 2\u001b[0;31m     \u001b[0mpercentages\u001b[0m\u001b[0;34m[\u001b[0m\u001b[0mi\u001b[0m\u001b[0;34m]\u001b[0m \u001b[0;34m=\u001b[0m \u001b[0;34m(\u001b[0m\u001b[0mdf\u001b[0m\u001b[0;34m[\u001b[0m\u001b[0;34m'No of pixels'\u001b[0m\u001b[0;34m]\u001b[0m\u001b[0;34m[\u001b[0m\u001b[0mi\u001b[0m\u001b[0;34m]\u001b[0m \u001b[0;34m*\u001b[0m \u001b[0;36m100\u001b[0m\u001b[0;34m)\u001b[0m\u001b[0;34m/\u001b[0m \u001b[0mno_of_pixels\u001b[0m\u001b[0;34m\u001b[0m\u001b[0;34m\u001b[0m\u001b[0m\n\u001b[0m",
      "\u001b[0;31mIndexError\u001b[0m: list assignment index out of range"
     ]
    }
   ],
   "source": [
    "for i in range(94):\n",
    "    percentages[i] = (df['No of pixels'][i] * 100)/ no_of_pixels"
   ]
  },
  {
   "cell_type": "code",
   "execution_count": 109,
   "metadata": {},
   "outputs": [],
   "source": [
    "# add the percentages to the dataframe\n"
   ]
  },
  {
   "cell_type": "code",
   "execution_count": 110,
   "metadata": {},
   "outputs": [],
   "source": [
    "# create the array for the kmeans"
   ]
  },
  {
   "cell_type": "code",
   "execution_count": 111,
   "metadata": {},
   "outputs": [],
   "source": [
    "#kmeans = KMeans(n_clusters=n, random_state=42).fit()"
   ]
  },
  {
   "cell_type": "code",
   "execution_count": 112,
   "metadata": {},
   "outputs": [],
   "source": [
    "#plotting"
   ]
  },
  {
   "cell_type": "code",
   "execution_count": null,
   "metadata": {},
   "outputs": [],
   "source": []
  }
 ],
 "metadata": {
  "kernelspec": {
   "display_name": "Python 3",
   "language": "python",
   "name": "python3"
  },
  "language_info": {
   "codemirror_mode": {
    "name": "ipython",
    "version": 3
   },
   "file_extension": ".py",
   "mimetype": "text/x-python",
   "name": "python",
   "nbconvert_exporter": "python",
   "pygments_lexer": "ipython3",
   "version": "3.8.3"
  }
 },
 "nbformat": 4,
 "nbformat_minor": 4
}
