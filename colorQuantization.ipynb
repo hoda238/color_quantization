{
 "cells": [
  {
   "cell_type": "code",
   "execution_count": 223,
   "metadata": {},
   "outputs": [],
   "source": [
    "#imports"
   ]
  },
  {
   "cell_type": "code",
   "execution_count": 224,
   "metadata": {},
   "outputs": [],
   "source": [
    "import pandas as pd\n",
    "import numpy as np\n",
    "import os\n",
    "from scipy.spatial.distance import cdist\n",
    "import matplotlib.pyplot as plt\n",
    "import PIL\n",
    "from PIL import Image\n",
    "from sklearn.cluster import KMeans"
   ]
  },
  {
   "cell_type": "code",
   "execution_count": 225,
   "metadata": {},
   "outputs": [
    {
     "name": "stdout",
     "output_type": "stream",
     "text": [
      "Documents/GitHub/color_quantization/images/color.png\n"
     ]
    }
   ],
   "source": [
    "path = '/Users/hoda/Documents/GitHub/color_quantization/images/color.png'\n",
    "start = '/Users/hoda'\n",
    "relative_path = os.path.relpath(path, start) \n",
    "print(relative_path)\n",
    "pic = Image.open('/Users/hoda/Documents/GitHub/color_quantization/images/color.png')"
   ]
  },
  {
   "cell_type": "code",
   "execution_count": 226,
   "metadata": {},
   "outputs": [],
   "source": [
    "#constants"
   ]
  },
  {
   "cell_type": "code",
   "execution_count": 227,
   "metadata": {},
   "outputs": [],
   "source": [
    "no_of_pixels = pic.size[0]*pic.size[1]\n",
    "img_size = pic.size"
   ]
  },
  {
   "cell_type": "code",
   "execution_count": 228,
   "metadata": {},
   "outputs": [],
   "source": [
    "#image attributes"
   ]
  },
  {
   "cell_type": "code",
   "execution_count": 229,
   "metadata": {},
   "outputs": [
    {
     "name": "stdout",
     "output_type": "stream",
     "text": [
      "RGB\n",
      "PNG\n",
      "(447, 284)\n",
      "126948\n"
     ]
    }
   ],
   "source": [
    "print(pic.mode)\n",
    "print(pic.format)\n",
    "print(img_size)\n",
    "print(no_of_pixels)"
   ]
  },
  {
   "cell_type": "code",
   "execution_count": 230,
   "metadata": {},
   "outputs": [],
   "source": [
    "pic.show()"
   ]
  },
  {
   "cell_type": "code",
   "execution_count": 231,
   "metadata": {},
   "outputs": [
    {
     "data": {
      "text/plain": [
       "[(70428, (255, 255, 255)),\n",
       " (2, (251, 203, 192)),\n",
       " (30, (250, 255, 250)),\n",
       " (960, (251, 175, 93)),\n",
       " (28, (243, 109, 80)),\n",
       " (930, (242, 101, 34)),\n",
       " (930, (239, 229, 203)),\n",
       " (960, (125, 167, 217)),\n",
       " (1860, (0, 33, 87)),\n",
       " (28, (213, 237, 222)),\n",
       " (28, (206, 239, 252)),\n",
       " (930, (0, 114, 188)),\n",
       " (28, (255, 255, 10)),\n",
       " (1860, (160, 65, 13)),\n",
       " (930, (158, 11, 15)),\n",
       " (28, (151, 151, 255)),\n",
       " (28, (255, 255, 156)),\n",
       " (28, (146, 255, 146)),\n",
       " (1, (139, 255, 139)),\n",
       " (1, (138, 255, 138)),\n",
       " (28, (137, 255, 255)),\n",
       " (1, (255, 255, 149)),\n",
       " (930, (130, 123, 0)),\n",
       " (2, (129, 255, 255)),\n",
       " (960, (125, 125, 125)),\n",
       " (960, (115, 99, 87)),\n",
       " (28, (255, 227, 227)),\n",
       " (930, (102, 45, 145)),\n",
       " (930, (96, 57, 19)),\n",
       " (28, (255, 170, 255)),\n",
       " (930, (89, 133, 39)),\n",
       " (930, (0, 91, 127)),\n",
       " (960, (61, 181, 74)),\n",
       " (1860, (54, 47, 45)),\n",
       " (960, (125, 73, 0)),\n",
       " (28, (255, 184, 184)),\n",
       " (28, (22, 255, 255)),\n",
       " (28, (16, 255, 16)),\n",
       " (28, (13, 13, 255)),\n",
       " (1, (7, 255, 255)),\n",
       " (1, (6, 255, 255)),\n",
       " (960, (1, 1, 1)),\n",
       " (872, (0, 255, 0)),\n",
       " (900, (255, 0, 0)),\n",
       " (28, (251, 206, 196)),\n",
       " (30, (248, 248, 255)),\n",
       " (960, (246, 152, 157)),\n",
       " (930, (244, 154, 194)),\n",
       " (872, (243, 108, 79)),\n",
       " (960, (0, 88, 38)),\n",
       " (930, (238, 20, 91)),\n",
       " (930, (237, 0, 140)),\n",
       " (930, (0, 169, 157)),\n",
       " (2, (210, 236, 220)),\n",
       " (930, (137, 137, 137)),\n",
       " (2, (203, 238, 252)),\n",
       " (960, (198, 156, 109)),\n",
       " (930, (0, 74, 128)),\n",
       " (930, (255, 245, 104)),\n",
       " (930, (189, 140, 191)),\n",
       " (28, (255, 255, 245)),\n",
       " (930, (171, 160, 0)),\n",
       " (960, (168, 100, 169)),\n",
       " (960, (0, 89, 82)),\n",
       " (2, (255, 164, 255)),\n",
       " (960, (153, 134, 117)),\n",
       " (960, (248, 148, 29)),\n",
       " (2, (144, 144, 255)),\n",
       " (930, (141, 198, 65)),\n",
       " (28, (131, 202, 157)),\n",
       " (872, (130, 202, 156)),\n",
       " (2, (255, 179, 179)),\n",
       " (960, (123, 0, 70)),\n",
       " (960, (121, 0, 0)),\n",
       " (930, (117, 76, 36)),\n",
       " (28, (110, 208, 247)),\n",
       " (872, (109, 208, 247)),\n",
       " (960, (96, 92, 169)),\n",
       " (28, (255, 2, 255)),\n",
       " (930, (86, 116, 185)),\n",
       " (930, (75, 0, 73)),\n",
       " (1, (255, 255, 150)),\n",
       " (930, (64, 102, 24)),\n",
       " (2, (255, 225, 225)),\n",
       " (960, (60, 184, 120)),\n",
       " (930, (54, 54, 54)),\n",
       " (960, (42, 170, 226)),\n",
       " (870, (0, 255, 255)),\n",
       " (872, (255, 0, 255)),\n",
       " (960, (251, 176, 60)),\n",
       " (872, (255, 255, 0)),\n",
       " (930, (13, 0, 76)),\n",
       " (872, (0, 0, 255)),\n",
       " (2, (255, 255, 244))]"
      ]
     },
     "execution_count": 231,
     "metadata": {},
     "output_type": "execute_result"
    }
   ],
   "source": [
    "pic.getcolors()"
   ]
  },
  {
   "cell_type": "code",
   "execution_count": 232,
   "metadata": {},
   "outputs": [
    {
     "name": "stdout",
     "output_type": "stream",
     "text": [
      "94\n"
     ]
    }
   ],
   "source": [
    "no_of_colors = len(pic.getcolors())\n",
    "print(no_of_colors)"
   ]
  },
  {
   "cell_type": "code",
   "execution_count": 233,
   "metadata": {},
   "outputs": [],
   "source": [
    "df = pd.DataFrame(pic.getcolors(), columns= ['No of pixels', 'Color'])"
   ]
  },
  {
   "cell_type": "code",
   "execution_count": 234,
   "metadata": {},
   "outputs": [
    {
     "name": "stdout",
     "output_type": "stream",
     "text": [
      "    No of pixels            Color\n",
      "0          70428  (255, 255, 255)\n",
      "1              2  (251, 203, 192)\n",
      "2             30  (250, 255, 250)\n",
      "3            960   (251, 175, 93)\n",
      "4             28   (243, 109, 80)\n",
      "..           ...              ...\n",
      "89           960   (251, 176, 60)\n",
      "90           872    (255, 255, 0)\n",
      "91           930      (13, 0, 76)\n",
      "92           872      (0, 0, 255)\n",
      "93             2  (255, 255, 244)\n",
      "\n",
      "[94 rows x 2 columns]\n"
     ]
    }
   ],
   "source": [
    "print(df)"
   ]
  },
  {
   "cell_type": "code",
   "execution_count": 235,
   "metadata": {},
   "outputs": [],
   "source": [
    "df = df[['Color', 'No of pixels']]"
   ]
  },
  {
   "cell_type": "code",
   "execution_count": 236,
   "metadata": {},
   "outputs": [
    {
     "data": {
      "text/html": [
       "<div>\n",
       "<style scoped>\n",
       "    .dataframe tbody tr th:only-of-type {\n",
       "        vertical-align: middle;\n",
       "    }\n",
       "\n",
       "    .dataframe tbody tr th {\n",
       "        vertical-align: top;\n",
       "    }\n",
       "\n",
       "    .dataframe thead th {\n",
       "        text-align: right;\n",
       "    }\n",
       "</style>\n",
       "<table border=\"1\" class=\"dataframe\">\n",
       "  <thead>\n",
       "    <tr style=\"text-align: right;\">\n",
       "      <th></th>\n",
       "      <th>Color</th>\n",
       "      <th>No of pixels</th>\n",
       "    </tr>\n",
       "  </thead>\n",
       "  <tbody>\n",
       "    <tr>\n",
       "      <th>89</th>\n",
       "      <td>(251, 176, 60)</td>\n",
       "      <td>960</td>\n",
       "    </tr>\n",
       "    <tr>\n",
       "      <th>90</th>\n",
       "      <td>(255, 255, 0)</td>\n",
       "      <td>872</td>\n",
       "    </tr>\n",
       "    <tr>\n",
       "      <th>91</th>\n",
       "      <td>(13, 0, 76)</td>\n",
       "      <td>930</td>\n",
       "    </tr>\n",
       "    <tr>\n",
       "      <th>92</th>\n",
       "      <td>(0, 0, 255)</td>\n",
       "      <td>872</td>\n",
       "    </tr>\n",
       "    <tr>\n",
       "      <th>93</th>\n",
       "      <td>(255, 255, 244)</td>\n",
       "      <td>2</td>\n",
       "    </tr>\n",
       "  </tbody>\n",
       "</table>\n",
       "</div>"
      ],
      "text/plain": [
       "              Color  No of pixels\n",
       "89   (251, 176, 60)           960\n",
       "90    (255, 255, 0)           872\n",
       "91      (13, 0, 76)           930\n",
       "92      (0, 0, 255)           872\n",
       "93  (255, 255, 244)             2"
      ]
     },
     "execution_count": 236,
     "metadata": {},
     "output_type": "execute_result"
    }
   ],
   "source": [
    "df.tail()"
   ]
  },
  {
   "cell_type": "code",
   "execution_count": 237,
   "metadata": {},
   "outputs": [],
   "source": [
    "percentages = []"
   ]
  },
  {
   "cell_type": "code",
   "execution_count": 238,
   "metadata": {},
   "outputs": [],
   "source": [
    "for i in range(94):\n",
    "    percentages.append((df['No of pixels'][i] * 100)/ no_of_pixels)"
   ]
  },
  {
   "cell_type": "code",
   "execution_count": 239,
   "metadata": {},
   "outputs": [],
   "source": [
    "df['Percentage'] = percentages"
   ]
  },
  {
   "cell_type": "code",
   "execution_count": 240,
   "metadata": {},
   "outputs": [
    {
     "data": {
      "text/html": [
       "<div>\n",
       "<style scoped>\n",
       "    .dataframe tbody tr th:only-of-type {\n",
       "        vertical-align: middle;\n",
       "    }\n",
       "\n",
       "    .dataframe tbody tr th {\n",
       "        vertical-align: top;\n",
       "    }\n",
       "\n",
       "    .dataframe thead th {\n",
       "        text-align: right;\n",
       "    }\n",
       "</style>\n",
       "<table border=\"1\" class=\"dataframe\">\n",
       "  <thead>\n",
       "    <tr style=\"text-align: right;\">\n",
       "      <th></th>\n",
       "      <th>Color</th>\n",
       "      <th>No of pixels</th>\n",
       "      <th>Percentage</th>\n",
       "    </tr>\n",
       "  </thead>\n",
       "  <tbody>\n",
       "    <tr>\n",
       "      <th>0</th>\n",
       "      <td>(255, 255, 255)</td>\n",
       "      <td>70428</td>\n",
       "      <td>55.477833</td>\n",
       "    </tr>\n",
       "    <tr>\n",
       "      <th>1</th>\n",
       "      <td>(251, 203, 192)</td>\n",
       "      <td>2</td>\n",
       "      <td>0.001575</td>\n",
       "    </tr>\n",
       "    <tr>\n",
       "      <th>2</th>\n",
       "      <td>(250, 255, 250)</td>\n",
       "      <td>30</td>\n",
       "      <td>0.023632</td>\n",
       "    </tr>\n",
       "    <tr>\n",
       "      <th>3</th>\n",
       "      <td>(251, 175, 93)</td>\n",
       "      <td>960</td>\n",
       "      <td>0.756215</td>\n",
       "    </tr>\n",
       "    <tr>\n",
       "      <th>4</th>\n",
       "      <td>(243, 109, 80)</td>\n",
       "      <td>28</td>\n",
       "      <td>0.022056</td>\n",
       "    </tr>\n",
       "  </tbody>\n",
       "</table>\n",
       "</div>"
      ],
      "text/plain": [
       "             Color  No of pixels  Percentage\n",
       "0  (255, 255, 255)         70428   55.477833\n",
       "1  (251, 203, 192)             2    0.001575\n",
       "2  (250, 255, 250)            30    0.023632\n",
       "3   (251, 175, 93)           960    0.756215\n",
       "4   (243, 109, 80)            28    0.022056"
      ]
     },
     "execution_count": 240,
     "metadata": {},
     "output_type": "execute_result"
    }
   ],
   "source": [
    "df.head()"
   ]
  },
  {
   "cell_type": "code",
   "execution_count": 241,
   "metadata": {},
   "outputs": [],
   "source": [
    "# create the array for the kmeans"
   ]
  },
  {
   "cell_type": "code",
   "execution_count": 242,
   "metadata": {},
   "outputs": [
    {
     "name": "stdout",
     "output_type": "stream",
     "text": [
      "0     (255, 255, 255)\n",
      "1     (251, 203, 192)\n",
      "2     (250, 255, 250)\n",
      "3      (251, 175, 93)\n",
      "4      (243, 109, 80)\n",
      "           ...       \n",
      "89     (251, 176, 60)\n",
      "90      (255, 255, 0)\n",
      "91        (13, 0, 76)\n",
      "92        (0, 0, 255)\n",
      "93    (255, 255, 244)\n",
      "Name: Color, Length: 94, dtype: object\n"
     ]
    }
   ],
   "source": [
    "colors_list = df['Color']\n",
    "print(colors_list)"
   ]
  },
  {
   "cell_type": "code",
   "execution_count": 243,
   "metadata": {},
   "outputs": [],
   "source": [
    "R = []\n",
    "G = []\n",
    "B = []\n",
    "for i in range(94):\n",
    "    (Ri , Gi , Bi) = colors_list[i]\n",
    "    R.append(Ri)\n",
    "    G.append(Gi)\n",
    "    B.append(Bi)     "
   ]
  },
  {
   "cell_type": "code",
   "execution_count": 244,
   "metadata": {},
   "outputs": [
    {
     "name": "stdout",
     "output_type": "stream",
     "text": [
      "[255, 251, 250, 251, 243, 242, 239, 125, 0, 213, 206, 0, 255, 160, 158, 151, 255, 146, 139, 138, 137, 255, 130, 129, 125, 115, 255, 102, 96, 255, 89, 0, 61, 54, 125, 255, 22, 16, 13, 7, 6, 1, 0, 255, 251, 248, 246, 244, 243, 0, 238, 237, 0, 210, 137, 203, 198, 0, 255, 189, 255, 171, 168, 0, 255, 153, 248, 144, 141, 131, 130, 255, 123, 121, 117, 110, 109, 96, 255, 86, 75, 255, 64, 255, 60, 54, 42, 0, 255, 251, 255, 13, 0, 255]\n"
     ]
    }
   ],
   "source": [
    "print(R)"
   ]
  },
  {
   "cell_type": "code",
   "execution_count": 245,
   "metadata": {},
   "outputs": [],
   "source": [
    "colors_df = pd.DataFrame(R, columns= ['R'])"
   ]
  },
  {
   "cell_type": "code",
   "execution_count": 246,
   "metadata": {},
   "outputs": [],
   "source": [
    "colors_df['G'] = G\n",
    "colors_df['B'] = B"
   ]
  },
  {
   "cell_type": "code",
   "execution_count": 247,
   "metadata": {},
   "outputs": [
    {
     "data": {
      "text/html": [
       "<div>\n",
       "<style scoped>\n",
       "    .dataframe tbody tr th:only-of-type {\n",
       "        vertical-align: middle;\n",
       "    }\n",
       "\n",
       "    .dataframe tbody tr th {\n",
       "        vertical-align: top;\n",
       "    }\n",
       "\n",
       "    .dataframe thead th {\n",
       "        text-align: right;\n",
       "    }\n",
       "</style>\n",
       "<table border=\"1\" class=\"dataframe\">\n",
       "  <thead>\n",
       "    <tr style=\"text-align: right;\">\n",
       "      <th></th>\n",
       "      <th>R</th>\n",
       "      <th>G</th>\n",
       "      <th>B</th>\n",
       "    </tr>\n",
       "  </thead>\n",
       "  <tbody>\n",
       "    <tr>\n",
       "      <th>0</th>\n",
       "      <td>255</td>\n",
       "      <td>255</td>\n",
       "      <td>255</td>\n",
       "    </tr>\n",
       "    <tr>\n",
       "      <th>1</th>\n",
       "      <td>251</td>\n",
       "      <td>203</td>\n",
       "      <td>192</td>\n",
       "    </tr>\n",
       "    <tr>\n",
       "      <th>2</th>\n",
       "      <td>250</td>\n",
       "      <td>255</td>\n",
       "      <td>250</td>\n",
       "    </tr>\n",
       "    <tr>\n",
       "      <th>3</th>\n",
       "      <td>251</td>\n",
       "      <td>175</td>\n",
       "      <td>93</td>\n",
       "    </tr>\n",
       "    <tr>\n",
       "      <th>4</th>\n",
       "      <td>243</td>\n",
       "      <td>109</td>\n",
       "      <td>80</td>\n",
       "    </tr>\n",
       "  </tbody>\n",
       "</table>\n",
       "</div>"
      ],
      "text/plain": [
       "     R    G    B\n",
       "0  255  255  255\n",
       "1  251  203  192\n",
       "2  250  255  250\n",
       "3  251  175   93\n",
       "4  243  109   80"
      ]
     },
     "execution_count": 247,
     "metadata": {},
     "output_type": "execute_result"
    }
   ],
   "source": [
    "colors_df.head()"
   ]
  },
  {
   "cell_type": "code",
   "execution_count": 262,
   "metadata": {},
   "outputs": [],
   "source": [
    "#perform the elbow method"
   ]
  },
  {
   "cell_type": "code",
   "execution_count": 249,
   "metadata": {},
   "outputs": [],
   "source": [
    "distances = []\n",
    "k = range(1,10)\n",
    "for i in k:\n",
    "    kmeans = KMeans(n_clusters=i).fit(colors_df)\n",
    "    kmeans.fit(colors_df)\n",
    "    distances.append(sum(np.min(cdist(colors_df, kmeans.cluster_centers_, 'euclidean'), axis=1)) / 94)"
   ]
  },
  {
   "cell_type": "code",
   "execution_count": 250,
   "metadata": {},
   "outputs": [
    {
     "data": {
      "image/png": "[encoded data removed]",
      "text/plain": [
       "<Figure size 432x288 with 1 Axes>"
      ]
     },
     "metadata": {
      "needs_background": "light"
     },
     "output_type": "display_data"
    }
   ],
   "source": [
    "plt.plot(K, distances, 'bx-')\n",
    "plt.xlabel('k')\n",
    "plt.ylabel('Distance')\n",
    "plt.title('Elbow Method')\n",
    "plt.show()"
   ]
  },
  {
   "cell_type": "code",
   "execution_count": 251,
   "metadata": {},
   "outputs": [],
   "source": [
    "#choose k = 4\n",
    "kmeansModel = KMeans(n_clusters=4).fit(colors_df)"
   ]
  },
  {
   "cell_type": "code",
   "execution_count": 252,
   "metadata": {},
   "outputs": [
    {
     "name": "stdout",
     "output_type": "stream",
     "text": [
      "[[205.05       127.25        67.55      ]\n",
      " [243.51851852 202.33333333 211.92592593]\n",
      " [ 83.09090909 208.40909091 199.04545455]\n",
      " [ 59.08        64.56        75.96      ]]\n"
     ]
    }
   ],
   "source": [
    "print(kmeansModel.cluster_centers_)"
   ]
  },
  {
   "cell_type": "code",
   "execution_count": 253,
   "metadata": {},
   "outputs": [],
   "source": [
    "labels = kmeansModel.labels_"
   ]
  },
  {
   "cell_type": "code",
   "execution_count": 254,
   "metadata": {},
   "outputs": [
    {
     "name": "stdout",
     "output_type": "stream",
     "text": [
      "[1 1 1 0 0 0 1 2 3 1 1 2 0 0 3 2 1 2 2 2 2 1 0 2 0 3 1 3 3 1 3 3 3 3 3 1 2\n",
      " 2 3 2 2 3 3 0 1 1 1 1 0 3 0 0 2 1 0 1 0 3 1 1 1 0 0 3 1 0 0 2 0 2 2 1 3 3\n",
      " 3 2 2 3 1 2 3 1 3 1 2 3 2 2 1 0 0 3 3 1]\n"
     ]
    }
   ],
   "source": [
    "print(labels)"
   ]
  },
  {
   "cell_type": "code",
   "execution_count": 255,
   "metadata": {},
   "outputs": [],
   "source": [
    "label0_size = 0\n",
    "label1_size = 0\n",
    "label2_size = 0\n",
    "label3_size = 0\n",
    "for i in range(94):\n",
    "    if(labels[i] == 0):\n",
    "        label0_size = label0_size +1\n",
    "    elif(labels[i] == 1):\n",
    "         label1_size = label1_size +1\n",
    "    elif(labels[i] == 2):\n",
    "         label2_size = label2_size +1\n",
    "    else:\n",
    "         label3_size = label3_size +1     "
   ]
  },
  {
   "cell_type": "code",
   "execution_count": 256,
   "metadata": {},
   "outputs": [
    {
     "name": "stdout",
     "output_type": "stream",
     "text": [
      "22\n"
     ]
    }
   ],
   "source": [
    "print (label2_size)"
   ]
  },
  {
   "cell_type": "code",
   "execution_count": 257,
   "metadata": {},
   "outputs": [],
   "source": [
    "label0_percentage = (label0_size * 100) / no_of_colors\n",
    "label1_percentage = (label1_size * 100) / no_of_colors\n",
    "label2_percentage = (label2_size * 100) / no_of_colors\n",
    "label3_percentage = (label3_size * 100) / no_of_colors"
   ]
  },
  {
   "cell_type": "code",
   "execution_count": 258,
   "metadata": {},
   "outputs": [
    {
     "name": "stdout",
     "output_type": "stream",
     "text": [
      "[21.27659574468085, 28.72340425531915, 23.404255319148938, 26.595744680851062]\n"
     ]
    }
   ],
   "source": [
    "percentages_arr =[]\n",
    "percentages_arr.append(label0_percentage)\n",
    "percentages_arr.append(label1_percentage)\n",
    "percentages_arr.append(label2_percentage)\n",
    "percentages_arr.append(label3_percentage)\n",
    "print(percentages_arr)"
   ]
  },
  {
   "cell_type": "code",
   "execution_count": 259,
   "metadata": {},
   "outputs": [],
   "source": [
    "#plotting"
   ]
  },
  {
   "cell_type": "code",
   "execution_count": 260,
   "metadata": {},
   "outputs": [],
   "source": [
    "#square plot\n",
    "#plt.plot([1, 2, 3], marker=11)\n",
    "#plt.plot([1, 2, 3], marker=matplotlib.markers.CARETDOWNBASE)"
   ]
  },
  {
   "cell_type": "code",
   "execution_count": 261,
   "metadata": {},
   "outputs": [
    {
     "data": {
      "image/png": "[encoded data removed]",
      "text/plain": [
       "<Figure size 432x288 with 1 Axes>"
      ]
     },
     "metadata": {
      "needs_background": "light"
     },
     "output_type": "display_data"
    }
   ],
   "source": [
    "#bar plot\n",
    "fig = plt.figure()\n",
    "ax = fig.add_axes([0,0,1,1])\n",
    "label = ['0' ,'1' ,'2' , '3']\n",
    "ax.bar(label,percentages_arr)\n",
    "plt.show()"
   ]
  },
  {
   "cell_type": "code",
   "execution_count": null,
   "metadata": {},
   "outputs": [],
   "source": [
    "#quantization"
   ]
  },
  {
   "cell_type": "code",
   "execution_count": 264,
   "metadata": {},
   "outputs": [
    {
     "ename": "AttributeError",
     "evalue": "'Figure' object has no attribute 'imshow'",
     "output_type": "error",
     "traceback": [
      "\u001b[0;31m---------------------------------------------------------------------------\u001b[0m",
      "\u001b[0;31mAttributeError\u001b[0m                            Traceback (most recent call last)",
      "\u001b[0;32m<ipython-input-264-0ded69264d77>\u001b[0m in \u001b[0;36m<module>\u001b[0;34m\u001b[0m\n\u001b[1;32m      4\u001b[0m \u001b[0;31m#pl.axis('off')\u001b[0m\u001b[0;34m\u001b[0m\u001b[0;34m\u001b[0m\u001b[0;34m\u001b[0m\u001b[0m\n\u001b[1;32m      5\u001b[0m \u001b[0;31m#pl.title('Quantized image (64 colors, K-Means)')\u001b[0m\u001b[0;34m\u001b[0m\u001b[0;34m\u001b[0m\u001b[0;34m\u001b[0m\u001b[0m\n\u001b[0;32m----> 6\u001b[0;31m \u001b[0mpl\u001b[0m\u001b[0;34m.\u001b[0m\u001b[0mimshow\u001b[0m\u001b[0;34m(\u001b[0m\u001b[0mrecreate_image\u001b[0m\u001b[0;34m(\u001b[0m\u001b[0mkmeans\u001b[0m\u001b[0;34m.\u001b[0m\u001b[0mcluster_centers_\u001b[0m\u001b[0;34m,\u001b[0m \u001b[0mlabels\u001b[0m\u001b[0;34m,\u001b[0m \u001b[0mw\u001b[0m\u001b[0;34m,\u001b[0m \u001b[0mh\u001b[0m\u001b[0;34m)\u001b[0m\u001b[0;34m)\u001b[0m\u001b[0;34m\u001b[0m\u001b[0;34m\u001b[0m\u001b[0m\n\u001b[0m",
      "\u001b[0;31mAttributeError\u001b[0m: 'Figure' object has no attribute 'imshow'"
     ]
    },
    {
     "data": {
      "image/png": "[encoded data removed]",
      "text/plain": [
       "<Figure size 432x288 with 1 Axes>"
      ]
     },
     "metadata": {
      "needs_background": "light"
     },
     "output_type": "display_data"
    }
   ],
   "source": [
    "pl = plt.figure()\n",
    "pl.clf()\n",
    "ax = pl.add_axes([0, 0, 1, 1])\n",
    "#pl.axis('off')\n",
    "#pl.title('Quantized image (64 colors, K-Means)')\n",
    "pl.imshow(recreate_image(kmeans.cluster_centers_, labels, w, h))"
   ]
  },
  {
   "cell_type": "code",
   "execution_count": null,
   "metadata": {},
   "outputs": [],
   "source": []
  }
 ],
 "metadata": {
  "kernelspec": {
   "display_name": "Python 3",
   "language": "python",
   "name": "python3"
  },
  "language_info": {
   "codemirror_mode": {
    "name": "ipython",
    "version": 3
   },
   "file_extension": ".py",
   "mimetype": "text/x-python",
   "name": "python",
   "nbconvert_exporter": "python",
   "pygments_lexer": "ipython3",
   "version": "3.8.3"
  }
 },
 "nbformat": 4,
 "nbformat_minor": 4
}
